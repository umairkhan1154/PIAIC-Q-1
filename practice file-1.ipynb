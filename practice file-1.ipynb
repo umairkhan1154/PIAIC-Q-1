{
 "cells": [
  {
   "cell_type": "markdown",
   "metadata": {},
   "source": [
    "# data_type\n"
   ]
  },
  {
   "cell_type": "code",
   "execution_count": null,
   "metadata": {},
   "outputs": [],
   "source": [
    "#there are three types or data in python\n",
    "#1) integer i.e : 2\n",
    "#2) float   i.e : 2.90\n",
    "#3) string  i.e : A,B"
   ]
  },
  {
   "cell_type": "code",
   "execution_count": 1,
   "metadata": {},
   "outputs": [
    {
     "data": {
      "text/plain": [
       "int"
      ]
     },
     "execution_count": 1,
     "metadata": {},
     "output_type": "execute_result"
    }
   ],
   "source": [
    "a=23\n",
    "type(a)"
   ]
  },
  {
   "cell_type": "code",
   "execution_count": 2,
   "metadata": {},
   "outputs": [
    {
     "data": {
      "text/plain": [
       "float"
      ]
     },
     "execution_count": 2,
     "metadata": {},
     "output_type": "execute_result"
    }
   ],
   "source": [
    "b = 2.2\n",
    "type(b)"
   ]
  },
  {
   "cell_type": "code",
   "execution_count": 4,
   "metadata": {},
   "outputs": [
    {
     "data": {
      "text/plain": [
       "str"
      ]
     },
     "execution_count": 4,
     "metadata": {},
     "output_type": "execute_result"
    }
   ],
   "source": [
    "c = \"A\"    # mene yaha \"\" quotation marks lagadye hain to python usko as a string recognize krega. agar me \"1\" esy likhdun\n",
    "          # tb b python 1 ko as a string treat krega q k mene uspy quotation marks lagady hain\n",
    "type(c)"
   ]
  },
  {
   "cell_type": "code",
   "execution_count": null,
   "metadata": {},
   "outputs": [],
   "source": [
    "# we simply use print command to display the object in python."
   ]
  },
  {
   "cell_type": "code",
   "execution_count": 5,
   "metadata": {},
   "outputs": [
    {
     "name": "stdout",
     "output_type": "stream",
     "text": [
      "23\n"
     ]
    }
   ],
   "source": [
    "print(a)"
   ]
  },
  {
   "cell_type": "code",
   "execution_count": 6,
   "metadata": {},
   "outputs": [
    {
     "name": "stdout",
     "output_type": "stream",
     "text": [
      "2.2\n"
     ]
    }
   ],
   "source": [
    "print(b)"
   ]
  },
  {
   "cell_type": "code",
   "execution_count": 7,
   "metadata": {},
   "outputs": [
    {
     "name": "stdout",
     "output_type": "stream",
     "text": [
      "A\n"
     ]
    }
   ],
   "source": [
    "print(c)"
   ]
  },
  {
   "cell_type": "code",
   "execution_count": 8,
   "metadata": {},
   "outputs": [
    {
     "name": "stdout",
     "output_type": "stream",
     "text": [
      "12.2 67 ABC True\n"
     ]
    }
   ],
   "source": [
    "print(12.2, 67 , \"ABC\", True)"
   ]
  },
  {
   "cell_type": "code",
   "execution_count": 10,
   "metadata": {},
   "outputs": [
    {
     "name": "stdout",
     "output_type": "stream",
     "text": [
      "12.267ABCTrue\n"
     ]
    }
   ],
   "source": [
    "# if i want no seperation between the words, then:\n",
    "print(12.2 ,67 , \"ABC\" , True , sep = '')"
   ]
  },
  {
   "cell_type": "code",
   "execution_count": 12,
   "metadata": {},
   "outputs": [
    {
     "name": "stdout",
     "output_type": "stream",
     "text": [
      "12.2 $ 67 $ ABC $ True\n"
     ]
    }
   ],
   "source": [
    "# in other words i can place any thing in between words:\n",
    "print(12.2 ,67 , \"ABC\" , True , sep = ' $ ')"
   ]
  },
  {
   "cell_type": "code",
   "execution_count": 13,
   "metadata": {},
   "outputs": [
    {
     "name": "stdout",
     "output_type": "stream",
     "text": [
      "hello physics\n",
      "last year\n",
      "KU is love\n"
     ]
    }
   ],
   "source": [
    "print(\"hello physics\")\n",
    "print(\"last year\")\n",
    "print(\"KU is love\")"
   ]
  },
  {
   "cell_type": "code",
   "execution_count": 15,
   "metadata": {},
   "outputs": [
    {
     "name": "stdout",
     "output_type": "stream",
     "text": [
      "hello physics last year KU is love\n"
     ]
    }
   ],
   "source": [
    "# python prints each str in a seperate line, if i want each of them in a single line, then:\n",
    "print(\"hello physics\" , end = ' ')\n",
    "print(\"last year\" , end = ' ')\n",
    "print(\"KU is love\")"
   ]
  },
  {
   "cell_type": "code",
   "execution_count": 16,
   "metadata": {},
   "outputs": [
    {
     "name": "stdout",
     "output_type": "stream",
     "text": [
      "Hello physics\tlast year\t\tKU is love\n"
     ]
    }
   ],
   "source": [
    "#agar mjhy hello physics k bd mjhy ik tab ka gap chaiye or last year k bd 2 tabs ka, then:\n",
    "\n",
    "print('Hello physics', end = '\\t')\n",
    "print('last year', end = '\\t\\t')\n",
    "print('KU is love')"
   ]
  },
  {
   "cell_type": "markdown",
   "metadata": {},
   "source": [
    "# variables"
   ]
  },
  {
   "cell_type": "code",
   "execution_count": 17,
   "metadata": {},
   "outputs": [],
   "source": [
    "#there are certain rules of assigning a variable.\n",
    "# 1)variable name should not include any special charactor i.e @ , $\n",
    "# 2)variable could not be started with any number\n",
    "# 3)variable doesnot include any space but u can use under score like , umair_khan\n",
    "# 4)variable could not be started with any number, but agar first word alphabet hu to to phr number use kraskty hain.\n",
    "#5) keywords ko as a variable use nahi krskty like True, for , in , not , else , if , elif , append ..."
   ]
  },
  {
   "cell_type": "code",
   "execution_count": 18,
   "metadata": {},
   "outputs": [
    {
     "ename": "SyntaxError",
     "evalue": "invalid syntax (<ipython-input-18-f8f5616dded7>, line 1)",
     "output_type": "error",
     "traceback": [
      "\u001b[1;36m  File \u001b[1;32m\"<ipython-input-18-f8f5616dded7>\"\u001b[1;36m, line \u001b[1;32m1\u001b[0m\n\u001b[1;33m    @ = \"umair\"\u001b[0m\n\u001b[1;37m      ^\u001b[0m\n\u001b[1;31mSyntaxError\u001b[0m\u001b[1;31m:\u001b[0m invalid syntax\n"
     ]
    }
   ],
   "source": [
    "@ = \"umair\""
   ]
  },
  {
   "cell_type": "code",
   "execution_count": 19,
   "metadata": {},
   "outputs": [],
   "source": [
    "# ub upar dekhen to mene ik special charactor ko use kra as a variable to usny error generate krwadya."
   ]
  },
  {
   "cell_type": "code",
   "execution_count": 20,
   "metadata": {},
   "outputs": [
    {
     "name": "stdout",
     "output_type": "stream",
     "text": [
      "23\n"
     ]
    }
   ],
   "source": [
    "age = 23\n",
    "print(age)\n"
   ]
  },
  {
   "cell_type": "code",
   "execution_count": 22,
   "metadata": {},
   "outputs": [
    {
     "name": "stdout",
     "output_type": "stream",
     "text": [
      "best university\n"
     ]
    }
   ],
   "source": [
    "karachi_university = \"best university\"\n",
    "print(karachi_university)"
   ]
  },
  {
   "cell_type": "code",
   "execution_count": 23,
   "metadata": {},
   "outputs": [
    {
     "name": "stdout",
     "output_type": "stream",
     "text": [
      "wow\n"
     ]
    }
   ],
   "source": [
    "n1m=\"wow\"\n",
    "print(n1m)"
   ]
  },
  {
   "cell_type": "code",
   "execution_count": 24,
   "metadata": {},
   "outputs": [
    {
     "ename": "SyntaxError",
     "evalue": "invalid syntax (<ipython-input-24-23d439ff7f99>, line 1)",
     "output_type": "error",
     "traceback": [
      "\u001b[1;36m  File \u001b[1;32m\"<ipython-input-24-23d439ff7f99>\"\u001b[1;36m, line \u001b[1;32m1\u001b[0m\n\u001b[1;33m    na me = \"khan\"\u001b[0m\n\u001b[1;37m        ^\u001b[0m\n\u001b[1;31mSyntaxError\u001b[0m\u001b[1;31m:\u001b[0m invalid syntax\n"
     ]
    }
   ],
   "source": [
    "na me = \"khan\"\n",
    "print(na me)"
   ]
  },
  {
   "cell_type": "code",
   "execution_count": 25,
   "metadata": {},
   "outputs": [],
   "source": [
    "#error agaya uppar q k mene space use kra hai variable me."
   ]
  },
  {
   "cell_type": "code",
   "execution_count": 26,
   "metadata": {},
   "outputs": [
    {
     "name": "stdout",
     "output_type": "stream",
     "text": [
      "7\n"
     ]
    }
   ],
   "source": [
    "x = 4\n",
    "y = 3\n",
    "z = x + y\n",
    "print(z)"
   ]
  },
  {
   "cell_type": "code",
   "execution_count": 27,
   "metadata": {},
   "outputs": [
    {
     "data": {
      "text/plain": [
       "1.0"
      ]
     },
     "execution_count": 27,
     "metadata": {},
     "output_type": "execute_result"
    }
   ],
   "source": [
    "4/4 # ans will be float"
   ]
  },
  {
   "cell_type": "code",
   "execution_count": 28,
   "metadata": {},
   "outputs": [
    {
     "data": {
      "text/plain": [
       "1"
      ]
     },
     "execution_count": 28,
     "metadata": {},
     "output_type": "execute_result"
    }
   ],
   "source": [
    "4//4 # ans will be integer , // use krny s decimal khtm"
   ]
  },
  {
   "cell_type": "code",
   "execution_count": 29,
   "metadata": {},
   "outputs": [
    {
     "data": {
      "text/plain": [
       "3.3333333333333335"
      ]
     },
     "execution_count": 29,
     "metadata": {},
     "output_type": "execute_result"
    }
   ],
   "source": [
    "10/3"
   ]
  },
  {
   "cell_type": "code",
   "execution_count": 30,
   "metadata": {},
   "outputs": [
    {
     "data": {
      "text/plain": [
       "3.333"
      ]
     },
     "execution_count": 30,
     "metadata": {},
     "output_type": "execute_result"
    }
   ],
   "source": [
    "# if i want to round of above value upto 5 places, then\n",
    "round((10/3),3)"
   ]
  },
  {
   "cell_type": "code",
   "execution_count": 31,
   "metadata": {},
   "outputs": [
    {
     "data": {
      "text/plain": [
       "3.33333"
      ]
     },
     "execution_count": 31,
     "metadata": {},
     "output_type": "execute_result"
    }
   ],
   "source": [
    "round((10/3),5)"
   ]
  },
  {
   "cell_type": "code",
   "execution_count": 47,
   "metadata": {},
   "outputs": [
    {
     "name": "stdout",
     "output_type": "stream",
     "text": [
      "UMAIR\n",
      "khan\n",
      "Umair Khan\n"
     ]
    }
   ],
   "source": [
    "a = \"umair\" . upper()\n",
    "print(a)\n",
    "b = \"KHAN\".lower()\n",
    "print(b)\n",
    "name = \"umair khan\" .title()\n",
    "print(name)"
   ]
  },
  {
   "cell_type": "markdown",
   "metadata": {},
   "source": [
    "# concatenation"
   ]
  },
  {
   "cell_type": "code",
   "execution_count": 32,
   "metadata": {},
   "outputs": [
    {
     "name": "stdout",
     "output_type": "stream",
     "text": [
      "my name is umair and my age is 26\n"
     ]
    }
   ],
   "source": [
    "age = 26\n",
    "name = \"umair\"\n",
    "print(f'my name is {name} and my age is {age}') # ye method formatting ka kehlata hai"
   ]
  },
  {
   "cell_type": "code",
   "execution_count": 33,
   "metadata": {},
   "outputs": [
    {
     "name": "stdout",
     "output_type": "stream",
     "text": [
      "a is greater then b\n"
     ]
    }
   ],
   "source": [
    "a = 23\n",
    "b = 5\n",
    "print(\"a is greater then b\")"
   ]
  },
  {
   "cell_type": "code",
   "execution_count": 34,
   "metadata": {},
   "outputs": [
    {
     "name": "stdout",
     "output_type": "stream",
     "text": [
      "23 is greater then 5\n"
     ]
    }
   ],
   "source": [
    "# but agar mjhy a or b ki jaga uski values rakhwani hun, then\n",
    "a = 23\n",
    "b = 5\n",
    "print(f'{a} is greater then {b}')"
   ]
  },
  {
   "cell_type": "markdown",
   "metadata": {},
   "source": [
    "# taking input from user"
   ]
  },
  {
   "cell_type": "code",
   "execution_count": 36,
   "metadata": {},
   "outputs": [
    {
     "name": "stdout",
     "output_type": "stream",
     "text": [
      "enter your name: umair\n",
      "my name is umair\n"
     ]
    }
   ],
   "source": [
    "# agar me chahta hu k me khd python ko data dun to usky lye ye krty hain.\n",
    "name = input(\"enter your name: \")\n",
    "print(f'my name is {name}')"
   ]
  },
  {
   "cell_type": "code",
   "execution_count": 38,
   "metadata": {},
   "outputs": [
    {
     "name": "stdout",
     "output_type": "stream",
     "text": [
      "enter your age:23\n",
      "my age is 23\n"
     ]
    }
   ],
   "source": [
    "# agar mjhy integer as a input dena hu to,\n",
    "age = int(input(\"enter your age:\"))\n",
    "print(f'my age is {age}')"
   ]
  },
  {
   "cell_type": "code",
   "execution_count": 40,
   "metadata": {},
   "outputs": [
    {
     "name": "stdout",
     "output_type": "stream",
     "text": [
      "enter your height:5.7\n",
      "my height is 5.7\n"
     ]
    }
   ],
   "source": [
    "#agar mjhy float as a input dena hu to,\n",
    "height = float(input(\"enter your height:\"))\n",
    "print(f'my height is {height}')"
   ]
  },
  {
   "cell_type": "code",
   "execution_count": 41,
   "metadata": {},
   "outputs": [
    {
     "name": "stdout",
     "output_type": "stream",
     "text": [
      "my name is umair , my age is 23 and my height is 5.7\n"
     ]
    }
   ],
   "source": [
    "print(f'my name is {name} , my age is {age} and my height is {height}')"
   ]
  },
  {
   "cell_type": "markdown",
   "metadata": {},
   "source": [
    "Here are some practice questions, hope you will do it at your own."
   ]
  },
  {
   "cell_type": "code",
   "execution_count": null,
   "metadata": {},
   "outputs": [],
   "source": [
    "\n",
    "# 2-1). Simple Message: Store a message in a variable, and then print that message . \n",
    "# 2-2) Simple Messages: Store a message in a variable, and print that message . Then change the value of your variable to a\n",
    "# new message, and print the new message .\n",
    "# 2-3) Personal Message: Store a person’s name in a variable, and print a mes- sage to that person . Your message should be \n",
    "# simple, such as, “Hello Eric, would you like to learn some Python today?” \n",
    "# 2-4).Name Cases: Store a person’s name in a variable, and then print that per- son’s name in lowercase, uppercase, and \n",
    "# titlecase .\n",
    "# 2-5)Famous Quote: Find a quote from a famous person you admire . Print the quote and the name of its author . Your output \n",
    "# should look something like the following, including the quotation marks: Albert Einstein once said, “A person who never\n",
    "# made a mistake never tried anything new.”\n",
    "# 2-6) Famous Quote 2: Repeat Exercise 2-5, but this time store the famous per- son’s name in a variable called famous_person\n",
    "# . Then compose your message and store it in a new variable called message . Print your message . \n",
    "# 2-7) Number Eight: Write addition, subtraction, multiplication, and division operations that each result in the number 8 .\n",
    "# Be sure to enclose your operations in print statements to see the results . You should create four lines that look like\n",
    "# this:print(5 + 3)Your output should simply be four lines with the number 8 appearing once on each line .\n",
    "# 2-8) Favorite Number: Store your favorite number in a variable . Then, using that variable, create a message that reveals \n",
    "# your favorite number . Print that message .\n",
    " "
   ]
  },
  {
   "cell_type": "code",
   "execution_count": null,
   "metadata": {},
   "outputs": [],
   "source": []
  },
  {
   "cell_type": "code",
   "execution_count": null,
   "metadata": {},
   "outputs": [],
   "source": []
  }
 ],
 "metadata": {
  "kernelspec": {
   "display_name": "Python 3",
   "language": "python",
   "name": "python3"
  },
  "language_info": {
   "codemirror_mode": {
    "name": "ipython",
    "version": 3
   },
   "file_extension": ".py",
   "mimetype": "text/x-python",
   "name": "python",
   "nbconvert_exporter": "python",
   "pygments_lexer": "ipython3",
   "version": "3.7.3"
  }
 },
 "nbformat": 4,
 "nbformat_minor": 2
}
